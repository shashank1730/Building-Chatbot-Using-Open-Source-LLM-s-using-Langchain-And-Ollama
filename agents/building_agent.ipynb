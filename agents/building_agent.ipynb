{
 "cells": [
  {
   "cell_type": "code",
   "execution_count": 6,
   "id": "3d884c15",
   "metadata": {},
   "outputs": [],
   "source": [
    "from langchain_community.tools import WikipediaQueryRun\n",
    "from langchain_community.utilities import WikipediaAPIWrapper"
   ]
  },
  {
   "cell_type": "code",
   "execution_count": 7,
   "id": "aa35fd73",
   "metadata": {},
   "outputs": [],
   "source": [
    "# Tool - 1 , Here out 1st Tool is Wikipedia \n",
    "api = WikipediaAPIWrapper(top_k_results=1,doc_content_chars_max=200)\n",
    "wiki_tool = WikipediaQueryRun(api_wrapper=api)\n"
   ]
  },
  {
   "cell_type": "code",
   "execution_count": 3,
   "id": "638cae09",
   "metadata": {},
   "outputs": [
    {
     "name": "stdout",
     "output_type": "stream",
     "text": [
      "Collecting wikipedia\n",
      "  Using cached wikipedia-1.4.0.tar.gz (27 kB)\n",
      "  Preparing metadata (setup.py): started\n",
      "  Preparing metadata (setup.py): finished with status 'done'\n",
      "Requirement already satisfied: beautifulsoup4 in c:\\users\\nalla\\anaconda3\\envs\\myenv\\lib\\site-packages (from wikipedia) (4.13.4)\n",
      "Requirement already satisfied: requests<3.0.0,>=2.0.0 in c:\\users\\nalla\\anaconda3\\envs\\myenv\\lib\\site-packages (from wikipedia) (2.32.3)\n",
      "Requirement already satisfied: charset-normalizer<4,>=2 in c:\\users\\nalla\\anaconda3\\envs\\myenv\\lib\\site-packages (from requests<3.0.0,>=2.0.0->wikipedia) (3.4.2)\n",
      "Requirement already satisfied: idna<4,>=2.5 in c:\\users\\nalla\\anaconda3\\envs\\myenv\\lib\\site-packages (from requests<3.0.0,>=2.0.0->wikipedia) (3.10)\n",
      "Requirement already satisfied: urllib3<3,>=1.21.1 in c:\\users\\nalla\\anaconda3\\envs\\myenv\\lib\\site-packages (from requests<3.0.0,>=2.0.0->wikipedia) (2.4.0)\n",
      "Requirement already satisfied: certifi>=2017.4.17 in c:\\users\\nalla\\anaconda3\\envs\\myenv\\lib\\site-packages (from requests<3.0.0,>=2.0.0->wikipedia) (2025.4.26)\n",
      "Requirement already satisfied: soupsieve>1.2 in c:\\users\\nalla\\anaconda3\\envs\\myenv\\lib\\site-packages (from beautifulsoup4->wikipedia) (2.7)\n",
      "Requirement already satisfied: typing-extensions>=4.0.0 in c:\\users\\nalla\\anaconda3\\envs\\myenv\\lib\\site-packages (from beautifulsoup4->wikipedia) (4.13.2)\n",
      "Building wheels for collected packages: wikipedia\n",
      "  Building wheel for wikipedia (setup.py): started\n",
      "  Building wheel for wikipedia (setup.py): finished with status 'done'\n",
      "  Created wheel for wikipedia: filename=wikipedia-1.4.0-py3-none-any.whl size=11785 sha256=c725ac20d46b8070700027dbf98061a182d22be1b6e0fa5cc7d332213a5081a7\n",
      "  Stored in directory: c:\\users\\nalla\\appdata\\local\\pip\\cache\\wheels\\5e\\b6\\c5\\93f3dec388ae76edc830cb42901bb0232504dfc0df02fc50de\n",
      "Successfully built wikipedia\n",
      "Installing collected packages: wikipedia\n",
      "Successfully installed wikipedia-1.4.0\n",
      "Note: you may need to restart the kernel to use updated packages.\n"
     ]
    },
    {
     "name": "stderr",
     "output_type": "stream",
     "text": [
      "  DEPRECATION: Building 'wikipedia' using the legacy setup.py bdist_wheel mechanism, which will be removed in a future version. pip 25.3 will enforce this behaviour change. A possible replacement is to use the standardized build interface by setting the `--use-pep517` option, (possibly combined with `--no-build-isolation`), or adding a `pyproject.toml` file to the source tree of 'wikipedia'. Discussion can be found at https://github.com/pypa/pip/issues/6334\n"
     ]
    }
   ],
   "source": [
    "pip install wikipedia"
   ]
  },
  {
   "cell_type": "code",
   "execution_count": 8,
   "id": "b00a39a1",
   "metadata": {},
   "outputs": [
    {
     "data": {
      "text/plain": [
       "'wikipedia'"
      ]
     },
     "execution_count": 8,
     "metadata": {},
     "output_type": "execute_result"
    }
   ],
   "source": [
    "wiki_tool.name"
   ]
  },
  {
   "cell_type": "code",
   "execution_count": 9,
   "id": "44ff3153",
   "metadata": {},
   "outputs": [
    {
     "name": "stderr",
     "output_type": "stream",
     "text": [
      "USER_AGENT environment variable not set, consider setting it to identify your requests.\n"
     ]
    }
   ],
   "source": [
    "## Libraries needed to fetch the data from URL\n",
    "from langchain_community.document_loaders import WebBaseLoader\n",
    "from langchain_community.vectorstores import FAISS\n",
    "from langchain_community.embeddings import OllamaEmbeddings\n",
    "from langchain_text_splitters import RecursiveCharacterTextSplitter"
   ]
  },
  {
   "cell_type": "code",
   "execution_count": 10,
   "id": "06051593",
   "metadata": {},
   "outputs": [
    {
     "name": "stderr",
     "output_type": "stream",
     "text": [
      "C:\\Users\\nalla\\AppData\\Local\\Temp\\ipykernel_22060\\2380442911.py:4: LangChainDeprecationWarning: The class `OllamaEmbeddings` was deprecated in LangChain 0.3.1 and will be removed in 1.0.0. An updated version of the class exists in the :class:`~langchain-ollama package and should be used instead. To use it run `pip install -U :class:`~langchain-ollama` and import as `from :class:`~langchain_ollama import OllamaEmbeddings``.\n",
      "  vectordb_AA_TC = FAISS.from_documents(AA_TC_fecthed_data[:20],OllamaEmbeddings())\n"
     ]
    },
    {
     "data": {
      "text/plain": [
       "VectorStoreRetriever(tags=['FAISS', 'OllamaEmbeddings'], vectorstore=<langchain_community.vectorstores.faiss.FAISS object at 0x0000023A4A9E6710>, search_kwargs={})"
      ]
     },
     "execution_count": 10,
     "metadata": {},
     "output_type": "execute_result"
    }
   ],
   "source": [
    "loader_AA_TC = WebBaseLoader(\"https://www.aa.com/i18n/customer-service/support/legal-information.jsp\")\n",
    "AA_TC_data = loader_AA_TC.load()\n",
    "AA_TC_fecthed_data = RecursiveCharacterTextSplitter(chunk_size=1000,chunk_overlap=200).split_documents(AA_TC_data)\n",
    "vectordb_AA_TC = FAISS.from_documents(AA_TC_fecthed_data[:20],OllamaEmbeddings())\n",
    "AA_TC_retriver = vectordb_AA_TC.as_retriever()\n",
    "AA_TC_retriver"
   ]
  },
  {
   "cell_type": "code",
   "execution_count": 11,
   "id": "84c3e52f",
   "metadata": {},
   "outputs": [
    {
     "data": {
      "text/plain": [
       "VectorStoreRetriever(tags=['FAISS', 'OllamaEmbeddings'], vectorstore=<langchain_community.vectorstores.faiss.FAISS object at 0x0000023A1B2272B0>, search_kwargs={})"
      ]
     },
     "execution_count": 11,
     "metadata": {},
     "output_type": "execute_result"
    }
   ],
   "source": [
    "loader_AA_CC = WebBaseLoader(\"https://www.aa.com/i18n/customer-service/support/conditions-of-carriage.jsp\")\n",
    "AA_CC_data = loader_AA_CC.load()\n",
    "AA_CC_fetched_data = RecursiveCharacterTextSplitter(chunk_size = 1000, chunk_overlap = 200).split_documents(AA_CC_data)\n",
    "vectordb_AA_CC = FAISS.from_documents(AA_CC_fetched_data[:20],OllamaEmbeddings())\n",
    "AA_CC_retriver = vectordb_AA_CC.as_retriever()\n",
    "AA_CC_retriver"
   ]
  },
  {
   "cell_type": "code",
   "execution_count": 12,
   "id": "883e64e8",
   "metadata": {},
   "outputs": [],
   "source": [
    "tools = [wiki_tool,AA_TC_retriver,AA_CC_retriver]"
   ]
  },
  {
   "cell_type": "code",
   "execution_count": 13,
   "id": "f6da89e6",
   "metadata": {},
   "outputs": [
    {
     "data": {
      "text/plain": [
       "[WikipediaQueryRun(api_wrapper=WikipediaAPIWrapper(wiki_client=<module 'wikipedia' from 'c:\\\\Users\\\\nalla\\\\anaconda3\\\\envs\\\\myenv\\\\lib\\\\site-packages\\\\wikipedia\\\\__init__.py'>, top_k_results=1, lang='en', load_all_available_meta=False, doc_content_chars_max=200)),\n",
       " VectorStoreRetriever(tags=['FAISS', 'OllamaEmbeddings'], vectorstore=<langchain_community.vectorstores.faiss.FAISS object at 0x0000023A4A9E6710>, search_kwargs={}),\n",
       " VectorStoreRetriever(tags=['FAISS', 'OllamaEmbeddings'], vectorstore=<langchain_community.vectorstores.faiss.FAISS object at 0x0000023A1B2272B0>, search_kwargs={})]"
      ]
     },
     "execution_count": 13,
     "metadata": {},
     "output_type": "execute_result"
    }
   ],
   "source": [
    "tools"
   ]
  },
  {
   "cell_type": "code",
   "execution_count": 15,
   "id": "afe5ccdc",
   "metadata": {},
   "outputs": [
    {
     "data": {
      "text/plain": [
       "OllamaLLM(model='llama2')"
      ]
     },
     "execution_count": 15,
     "metadata": {},
     "output_type": "execute_result"
    }
   ],
   "source": [
    "from langchain_ollama import OllamaLLM\n",
    "llm = OllamaLLM(model=\"llama2\")\n",
    "llm"
   ]
  },
  {
   "cell_type": "code",
   "execution_count": 53,
   "id": "203cd525",
   "metadata": {},
   "outputs": [
    {
     "name": "stdout",
     "output_type": "stream",
     "text": [
      "aa_cc\n"
     ]
    }
   ],
   "source": [
    "question = \"Can I checkin my baggage two days before the flight go have fun around the city for 2 days and finally board the flight\"\n",
    "\n",
    "\n",
    "routing_prompt = f\"\"\"\n",
    "You're an AI assistant with access to 3 tools:\n",
    "\n",
    "1. \"aa_cc\" - Use this for questions about American Airlines baggage.\n",
    "2. \"aa_tc\" - Use this for questions about American Airlines refund policies.\n",
    "\n",
    "\n",
    "Based on the question below, return only the tool name (wiki / aa_tc / aa_cc).\n",
    "\n",
    "Question: {question}\n",
    "Tool: \"\"\"\n",
    "\n",
    "tool_choice = llm.invoke(routing_prompt).strip().lower()\n",
    "print(tool_choice)\n",
    "\n",
    "if \"aa_cc\" in tool_choice:\n",
    "    docs = AA_TC_retriver.get_relevant_documents(question)\n",
    "    context = \"\\n\\n\".join(doc.page_content for doc in docs)\n",
    "elif \"aa_tc\" in tool_choice:\n",
    "    docs = AA_CC_retriver.get_relevant_documents(question)\n",
    "    context = \"\\n\\n\".join(doc.page_content for doc in docs)\n",
    "else:\n",
    "    context = wiki_tool.run(question)\n",
    "\n"
   ]
  },
  {
   "cell_type": "code",
   "execution_count": null,
   "id": "fb739be2",
   "metadata": {},
   "outputs": [
    {
     "data": {
      "text/plain": [
       "[SystemMessagePromptTemplate(prompt=PromptTemplate(input_variables=[], input_types={}, partial_variables={}, template='You are a helpful assistant'), additional_kwargs={}),\n",
       " MessagesPlaceholder(variable_name='chat_history', optional=True),\n",
       " HumanMessagePromptTemplate(prompt=PromptTemplate(input_variables=['input'], input_types={}, partial_variables={}, template='{input}'), additional_kwargs={}),\n",
       " MessagesPlaceholder(variable_name='agent_scratchpad')]"
      ]
     },
     "execution_count": 26,
     "metadata": {},
     "output_type": "execute_result"
    }
   ],
   "source": [
    "## This is an optional code to show how to import predefined prompts that arae already in a structured and are present in lanchain hub\n",
    "from langchain import hub\n",
    "\n",
    "prompt_demo = hub.pull(\"hwchase17/openai-functions-agent\")\n",
    "prompt_demo.messages"
   ]
  },
  {
   "cell_type": "code",
   "execution_count": 55,
   "id": "5652c215",
   "metadata": {},
   "outputs": [
    {
     "name": "stdout",
     "output_type": "stream",
     "text": [
      "Thank you for reaching out to us! I'm happy to help you with your question. However, I need to inform you that according to American Airlines' policies, check-in for flights is typically available 24 hours before the scheduled departure time, and baggage drop-off is usually available 30 minutes before the flight's scheduled departure time.\n",
      "\n",
      "It's important to note that checking in for a flight too early can lead to issues with baggage delivery and boarding, so it's best to check in at the appropriate time. Additionally, American Airlines does not allow passengers to book multiple flights under different names or aliases, so you will need to use your real name and accurate contact information when booking a flight.\n",
      "\n",
      "If you have any other questions or concerns, please feel free to ask!\n"
     ]
    }
   ],
   "source": [
    "# === Step 3: Ask the final LLM with context ===\n",
    "final_prompt = f\"\"\"\n",
    "You are a helpful customer service assistant trained on American Airlines policies.\n",
    "\n",
    "Step 1: but if you are answering from the <context> tell the cusomter confidentely I have checked the Terms and conditons for you and this is what I found\n",
    "Step 2: Try to find the answer in the provided context. Quote relevant policy lines when possible never tell customer to go check this part for more info.\n",
    "Step 3: If the answer is NOT found in the context, use your general airline knowledge, but mention that you're doing so \n",
    "\n",
    "<context>\n",
    "{context}\n",
    "</context>\n",
    "\n",
    "Question: {question}\n",
    "\n",
    "\n",
    "Answer:\"\"\"\n",
    "\n",
    "answer = llm.invoke(final_prompt)\n",
    "print(answer)\n",
    "\n",
    "\n",
    "\n",
    "answer = llm.invoke(final_prompt)\n"
   ]
  },
  {
   "cell_type": "code",
   "execution_count": null,
   "id": "77109172",
   "metadata": {},
   "outputs": [],
   "source": []
  },
  {
   "cell_type": "code",
   "execution_count": null,
   "id": "8703367f",
   "metadata": {},
   "outputs": [],
   "source": []
  }
 ],
 "metadata": {
  "kernelspec": {
   "display_name": "myenv",
   "language": "python",
   "name": "python3"
  },
  "language_info": {
   "codemirror_mode": {
    "name": "ipython",
    "version": 3
   },
   "file_extension": ".py",
   "mimetype": "text/x-python",
   "name": "python",
   "nbconvert_exporter": "python",
   "pygments_lexer": "ipython3",
   "version": "3.10.16"
  }
 },
 "nbformat": 4,
 "nbformat_minor": 5
}
